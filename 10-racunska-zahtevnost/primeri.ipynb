<<<<<<< HEAD:09-racunska-zahtevnost/predavanja/primeri.ipynb
{
 "cells": [
  {
   "cell_type": "markdown",
   "metadata": {},
   "source": [
    "## Predpriprava"
   ]
  },
  {
   "cell_type": "code",
   "execution_count": 33,
   "metadata": {
    "vscode": {
     "languageId": "ocaml"
    }
   },
   "outputs": [
    {
     "name": "stdout",
     "output_type": "stream",
     "text": [
      "- : unit = ()\n",
      "Findlib has been successfully loaded. Additional directives:\n",
      "  #require \"package\";;      to load a package\n",
      "  #list;;                   to list the available packages\n",
      "  #camlp4o;;                to load camlp4 (standard syntax)\n",
      "  #camlp4r;;                to load camlp4 (revised syntax)\n",
      "  #predicates \"p,q,...\";;   to set these predicates\n",
      "  Topfind.reset();;         to force that packages will be reloaded\n",
      "  #thread;;                 to enable threads\n",
      "\n",
      "- : unit = ()\n"
     ]
    },
    {
     "name": "stderr",
     "output_type": "stream",
     "text": [
      "/Users/matija/.opam/default/lib/base64: added to search path\n",
      "/Users/matija/.opam/default/lib/base64/base64.cma: loaded\n",
      "/Users/matija/.opam/default/lib/ocaml/compiler-libs: added to search path\n",
      "/Users/matija/.opam/default/lib/ocaml/compiler-libs/ocamlcommon.cma: loaded\n",
      "/Users/matija/.opam/default/lib/seq: added to search path\n",
      "/Users/matija/.opam/default/lib/yojson: added to search path\n",
      "/Users/matija/.opam/default/lib/yojson/yojson.cma: loaded\n",
      "/Users/matija/.opam/default/lib/ppx_yojson_conv_lib: added to search path\n",
      "/Users/matija/.opam/default/lib/ppx_yojson_conv_lib/ppx_yojson_conv_lib.cma: loaded\n",
      "/Users/matija/.opam/default/lib/ocaml/unix.cma: loaded\n",
      "/Users/matija/.opam/default/lib/bytes: added to search path\n",
      "/Users/matija/.opam/default/lib/uuidm: added to search path\n",
      "/Users/matija/.opam/default/lib/uuidm/uuidm.cma: loaded\n",
      "/Users/matija/.opam/default/lib/jupyter: added to search path\n",
      "/Users/matija/.opam/default/lib/jupyter/jupyter.cma: loaded\n",
      "/Users/matija/.opam/default/lib/result: added to search path\n",
      "/Users/matija/.opam/default/lib/result/result.cma: loaded\n",
      "/Users/matija/.opam/default/lib/ppx_deriving/runtime: added to search path\n",
      "/Users/matija/.opam/default/lib/ppx_deriving/runtime/ppx_deriving_runtime.cma: loaded\n",
      "/Users/matija/.opam/default/lib/jupyter/notebook: added to search path\n",
      "/Users/matija/.opam/default/lib/jupyter/notebook/jupyter_notebook.cma: loaded\n"
     ]
    }
   ],
   "source": [
    "#use \"topfind\" ;;\n",
    "#require \"jupyter.notebook\" ;;"
   ]
  },
  {
   "cell_type": "markdown",
   "metadata": {},
   "source": [
    "## Zanki `while` in `for`"
   ]
  },
  {
   "cell_type": "code",
   "execution_count": 6,
   "metadata": {
    "vscode": {
     "languageId": "ocaml"
    }
   },
   "outputs": [
    {
     "data": {
      "text/plain": [
       "- : int = 55\n"
      ]
     },
     "execution_count": 6,
     "metadata": {},
     "output_type": "execute_result"
    }
   ],
   "source": [
    "let vsota = ref 0 in\n",
    "for i = 1 to 10 do\n",
    "  vsota := !vsota + i\n",
    "done;\n",
    "!vsota"
   ]
  },
  {
   "cell_type": "code",
   "execution_count": 8,
   "metadata": {
    "vscode": {
     "languageId": "ocaml"
    }
   },
   "outputs": [
    {
     "data": {
      "text/plain": [
       "- : int = 55\n"
      ]
     },
     "execution_count": 8,
     "metadata": {},
     "output_type": "execute_result"
    }
   ],
   "source": [
    "let i = ref 1 in\n",
    "let vsota = ref 0 in\n",
    "while !i <= 10 do\n",
    "  vsota := !vsota + !i;\n",
    "  incr i\n",
    "done;\n",
    "!vsota"
   ]
  },
  {
   "cell_type": "code",
   "execution_count": 9,
   "metadata": {
    "vscode": {
     "languageId": "ocaml"
    }
   },
   "outputs": [
    {
     "data": {
      "text/plain": [
       "- : int ref -> unit = <fun>\n"
      ]
     },
     "execution_count": 9,
     "metadata": {},
     "output_type": "execute_result"
    }
   ],
   "source": [
    "incr"
   ]
  },
  {
   "cell_type": "markdown",
   "metadata": {},
   "source": [
    "## Spreminjanje tabel na mestu"
   ]
  },
  {
   "cell_type": "code",
   "execution_count": 10,
   "metadata": {
    "vscode": {
     "languageId": "ocaml"
    }
   },
   "outputs": [
    {
     "data": {
      "text/plain": [
       "val zamenjaj : 'a array -> int -> int -> unit = <fun>\n"
      ]
     },
     "execution_count": 10,
     "metadata": {},
     "output_type": "execute_result"
    }
   ],
   "source": [
    "let zamenjaj tabela i j =\n",
    "  let x = tabela.(i) in\n",
    "  tabela.(i) <- tabela.(j);\n",
    "  tabela.(j) <- x"
   ]
  },
  {
   "cell_type": "code",
   "execution_count": 11,
   "metadata": {
    "vscode": {
     "languageId": "ocaml"
    }
   },
   "outputs": [
    {
     "data": {
      "text/plain": [
       "val t : int array = [|1; 2; 3; 4; 5|]\n"
      ]
     },
     "execution_count": 11,
     "metadata": {},
     "output_type": "execute_result"
    }
   ],
   "source": [
    "let t = [| 1; 2; 3; 4; 5 |]"
   ]
  },
  {
   "cell_type": "code",
   "execution_count": 13,
   "metadata": {
    "vscode": {
     "languageId": "ocaml"
    }
   },
   "outputs": [
    {
     "data": {
      "text/plain": [
       "- : unit = ()\n"
      ]
     },
     "execution_count": 13,
     "metadata": {},
     "output_type": "execute_result"
    }
   ],
   "source": [
    "t.(3) <- 40"
   ]
  },
  {
   "cell_type": "code",
   "execution_count": 15,
   "metadata": {
    "vscode": {
     "languageId": "ocaml"
    }
   },
   "outputs": [
    {
     "ename": "error",
     "evalue": "runtime_error",
     "output_type": "error",
     "traceback": [
      "\u001b[31mException: Invalid_argument \"index out of bounds\".\nRaised by primitive operation at unknown location\nCalled from Stdlib__Fun.protect in file \"fun.ml\", line 33, characters 8-15\nRe-raised at Stdlib__Fun.protect in file \"fun.ml\", line 38, characters 6-52\nCalled from Topeval.load_lambda in file \"toplevel/byte/topeval.ml\", line 89, characters 4-150\n\u001b[0m"
     ]
    }
   ],
   "source": [
    "t.(40) <- 3"
   ]
  },
  {
   "cell_type": "code",
   "execution_count": 14,
   "metadata": {
    "vscode": {
     "languageId": "ocaml"
    }
   },
   "outputs": [
    {
     "data": {
      "text/plain": [
       "- : int array = [|1; 2; 3; 40; 5|]\n"
      ]
     },
     "execution_count": 14,
     "metadata": {},
     "output_type": "execute_result"
    }
   ],
   "source": [
    "t"
   ]
  },
  {
   "cell_type": "code",
   "execution_count": 16,
   "metadata": {
    "vscode": {
     "languageId": "ocaml"
    }
   },
   "outputs": [
    {
     "data": {
      "text/plain": [
       "- : unit = ()\n"
      ]
     },
     "execution_count": 16,
     "metadata": {},
     "output_type": "execute_result"
    }
   ],
   "source": [
    "zamenjaj t 0 4"
   ]
  },
  {
   "cell_type": "code",
   "execution_count": 17,
   "metadata": {
    "vscode": {
     "languageId": "ocaml"
    }
   },
   "outputs": [
    {
     "data": {
      "text/plain": [
       "- : int array = [|5; 2; 3; 40; 1|]\n"
      ]
     },
     "execution_count": 17,
     "metadata": {},
     "output_type": "execute_result"
    }
   ],
   "source": [
    "t"
   ]
  },
  {
   "cell_type": "code",
   "execution_count": 18,
   "metadata": {
    "vscode": {
     "languageId": "ocaml"
    }
   },
   "outputs": [
    {
     "data": {
      "text/plain": [
       "val obrni_na_mestu : 'a array -> unit = <fun>\n"
      ]
     },
     "execution_count": 18,
     "metadata": {},
     "output_type": "execute_result"
    }
   ],
   "source": [
    "let obrni_na_mestu tabela =\n",
    "  let n = Array.length tabela in\n",
    "  for i = 0 to n / 2 do\n",
    "    zamenjaj tabela i (n - 1 - i)\n",
    "  done"
   ]
  },
  {
   "cell_type": "code",
   "execution_count": 21,
   "metadata": {
    "vscode": {
     "languageId": "ocaml"
    }
   },
   "outputs": [
    {
     "data": {
      "text/plain": [
       "- : int array = [|30; 20; 10|]\n"
      ]
     },
     "execution_count": 21,
     "metadata": {},
     "output_type": "execute_result"
    }
   ],
   "source": [
    "let t = [| 10; 20; 30 |] in\n",
    "obrni_na_mestu t;\n",
    "t"
   ]
  },
  {
   "cell_type": "code",
   "execution_count": 23,
   "metadata": {
    "vscode": {
     "languageId": "ocaml"
    }
   },
   "outputs": [
    {
     "data": {
      "text/plain": [
       "val naredi_obrnjeno : 'a array -> 'a array = <fun>\n"
      ]
     },
     "execution_count": 23,
     "metadata": {},
     "output_type": "execute_result"
    }
   ],
   "source": [
    "let naredi_obrnjeno tabela =\n",
    "  let n = Array.length tabela in\n",
    "  Array.init n (fun i -> tabela.(n - 1 - i))"
   ]
  },
  {
   "cell_type": "markdown",
   "metadata": {},
   "source": [
    "## Mešanje"
   ]
  },
  {
   "cell_type": "code",
   "execution_count": 67,
   "metadata": {
    "vscode": {
     "languageId": "ocaml"
    }
   },
   "outputs": [
    {
     "data": {
      "text/plain": [
       "val nakljucno_celo : int -> int -> int = <fun>\n"
      ]
     },
     "execution_count": 67,
     "metadata": {},
     "output_type": "execute_result"
    },
    {
     "data": {
      "text/plain": [
       "val premesaj : 'a array -> unit = <fun>\n"
      ]
     },
     "execution_count": 67,
     "metadata": {},
     "output_type": "execute_result"
    }
   ],
   "source": [
    "let nakljucno_celo a b =\n",
    "  a + Random.int (b + 1 - a)\n",
    "\n",
    "let premesaj tabela =\n",
    "  let n = Array.length tabela in\n",
    "  for i = 0 to n - 2 do\n",
    "    let j = nakljucno_celo (i + 1) (n - 1) in\n",
    "    zamenjaj tabela i j\n",
    "  done"
   ]
  },
  {
   "cell_type": "code",
   "execution_count": 31,
   "metadata": {
    "vscode": {
     "languageId": "ocaml"
    }
   },
   "outputs": [
    {
     "data": {
      "text/plain": [
       "- : int array = [|9; 6; 5; 8; 2; 7; 4; 1; 0; 3|]\n"
      ]
     },
     "execution_count": 31,
     "metadata": {},
     "output_type": "execute_result"
    }
   ],
   "source": [
    "let tabela = Array.init 10 (fun i -> i) in\n",
    "premesaj tabela;\n",
    "tabela"
   ]
  },
  {
   "cell_type": "markdown",
   "metadata": {},
   "source": [
    "### Porazdelitev verjetnosti dogodkov"
   ]
  },
  {
   "cell_type": "code",
   "execution_count": 34,
   "metadata": {
    "vscode": {
     "languageId": "ocaml"
    }
   },
   "outputs": [
    {
     "data": {
      "text/plain": [
       "val prikazi_verjetnosti :\n",
       "  (string * float) list -> Jupyter_notebook.display_id = <fun>\n"
      ]
     },
     "execution_count": 34,
     "metadata": {},
     "output_type": "execute_result"
    }
   ],
   "source": [
    "let prikazi_verjetnosti verjetnosti =\n",
    "  Jupyter_notebook.printf \"<table><tr><th>dogodek</th><th>verjetnost</th><th style=\\\"width: 300px\\\"></th></tr>\";\n",
    "  verjetnosti\n",
    "  |> List.iter (fun (x, p) ->\n",
    "    let percent = (100. *. p) in\n",
    "    Jupyter_notebook.printf \"<tr><td>%s</td><td>%f%%</td><td><div style=\\\"width: %f%%; height: 1em; background:black\\\"></div></td></tr>\" x percent percent) ;\n",
    "  Jupyter_notebook.printf \"</table>\" ;\n",
    "  Jupyter_notebook.display_formatter \"text/html\""
   ]
  },
  {
   "cell_type": "code",
   "execution_count": 35,
   "metadata": {
    "vscode": {
     "languageId": "ocaml"
    }
   },
   "outputs": [
    {
     "data": {
      "text/html": [
       "<table><tr><th>dogodek</th><th>verjetnost</th><th style=\"width: 300px\"></th></tr><tr><td>sonce</td><td>50.000000%</td><td><div style=\"width: 50.000000%; height: 1em; background:black\"></div></td></tr><tr><td>dež</td><td>10.000000%</td><td><div style=\"width: 10.000000%; height: 1em; background:black\"></div></td></tr><tr><td>oblačno</td><td>20.000000%</td><td><div style=\"width: 20.000000%; height: 1em; background:black\"></div></td></tr><tr><td>sneg</td><td>10.000000%</td><td><div style=\"width: 10.000000%; height: 1em; background:black\"></div></td></tr></table>"
      ]
     },
     "metadata": {},
     "output_type": "display_data"
    },
    {
     "data": {
      "text/plain": [
       "- : Jupyter_notebook.display_id = <abstr>\n"
      ]
     },
     "execution_count": 35,
     "metadata": {},
     "output_type": "execute_result"
    }
   ],
   "source": [
    "prikazi_verjetnosti [(\"sonce\", 0.5); (\"dež\", 0.1); (\"oblačno\", 0.2); (\"sneg\", 0.1)]"
   ]
  },
  {
   "cell_type": "code",
   "execution_count": 36,
   "metadata": {
    "vscode": {
     "languageId": "ocaml"
    }
   },
   "outputs": [
    {
     "data": {
      "text/plain": [
       "val verjetnost_rezultatov : (unit -> 'a) -> int -> ('a * float) list = <fun>\n"
      ]
     },
     "execution_count": 36,
     "metadata": {},
     "output_type": "execute_result"
    }
   ],
   "source": [
    "let verjetnost_rezultatov poskus stevilo_poskusov =\n",
    "  let ponovitve = Hashtbl.create 256 in\n",
    "  for _ = 1 to stevilo_poskusov do\n",
    "    let rezultat = poskus () in\n",
    "    if Hashtbl.mem ponovitve rezultat then\n",
    "      Hashtbl.replace ponovitve rezultat (Hashtbl.find ponovitve rezultat + 1)\n",
    "    else Hashtbl.add ponovitve rezultat 1\n",
    "  done;\n",
    "  let verjetnosti =\n",
    "    Hashtbl.fold\n",
    "      (fun rezultat stevilo seznam ->\n",
    "        (rezultat, float_of_int stevilo /. float_of_int stevilo_poskusov)\n",
    "        :: seznam)\n",
    "      ponovitve []\n",
    "  in\n",
    "  List.sort (fun (x1, p1) (x2, p2) -> compare x1 x2) verjetnosti"
   ]
  },
  {
   "cell_type": "code",
   "execution_count": 53,
   "metadata": {
    "vscode": {
     "languageId": "ocaml"
    }
   },
   "outputs": [
    {
     "data": {
      "text/html": [
       "<table><tr><th>dogodek</th><th>verjetnost</th><th style=\"width: 300px\"></th></tr><tr><td>1</td><td>16.747000%</td><td><div style=\"width: 16.747000%; height: 1em; background:black\"></div></td></tr><tr><td>2</td><td>16.484000%</td><td><div style=\"width: 16.484000%; height: 1em; background:black\"></div></td></tr><tr><td>3</td><td>16.681000%</td><td><div style=\"width: 16.681000%; height: 1em; background:black\"></div></td></tr><tr><td>4</td><td>16.682000%</td><td><div style=\"width: 16.682000%; height: 1em; background:black\"></div></td></tr><tr><td>5</td><td>16.634000%</td><td><div style=\"width: 16.634000%; height: 1em; background:black\"></div></td></tr><tr><td>6</td><td>16.772000%</td><td><div style=\"width: 16.772000%; height: 1em; background:black\"></div></td></tr></table>"
      ]
     },
     "metadata": {},
     "output_type": "display_data"
    },
    {
     "data": {
      "text/plain": [
       "- : Jupyter_notebook.display_id = <abstr>\n"
      ]
     },
     "execution_count": 53,
     "metadata": {},
     "output_type": "execute_result"
    }
   ],
   "source": [
    "verjetnost_rezultatov (fun () -> nakljucno_celo 1 6) 100000\n",
    "|> List.map (fun (met, p) -> (string_of_int met, p))\n",
    "|> prikazi_verjetnosti"
   ]
  },
  {
   "cell_type": "markdown",
   "metadata": {},
   "source": [
    "### Pravičnost mešanja"
   ]
  },
  {
   "cell_type": "code",
   "execution_count": 58,
   "metadata": {
    "vscode": {
     "languageId": "ocaml"
    }
   },
   "outputs": [
    {
     "data": {
      "text/plain": [
       "val verjetnost_permutacij :\n",
       "  (string array -> unit) ->\n",
       "  string array -> int -> Jupyter_notebook.display_id = <fun>\n"
      ]
     },
     "execution_count": 58,
     "metadata": {},
     "output_type": "execute_result"
    }
   ],
   "source": [
    "let verjetnost_permutacij premesaj zacetna_tabela stevilo_poskusov =\n",
    "  let poskus () =\n",
    "    let kopija = Array.copy zacetna_tabela in\n",
    "    let () = premesaj kopija in\n",
    "    kopija\n",
    "    |> Array.to_list\n",
    "    |> String.concat \"\"\n",
    "  in\n",
    "  verjetnost_rezultatov poskus stevilo_poskusov\n",
    "  |> prikazi_verjetnosti"
   ]
  },
  {
   "cell_type": "code",
   "execution_count": 85,
   "metadata": {
    "vscode": {
     "languageId": "ocaml"
    }
   },
   "outputs": [
    {
     "data": {
      "text/html": [
       "<table><tr><th>dogodek</th><th>verjetnost</th><th style=\"width: 300px\"></th></tr><tr><td>ABCD</td><td>100.000000%</td><td><div style=\"width: 100.000000%; height: 1em; background:black\"></div></td></tr></table>"
      ]
     },
     "metadata": {},
     "output_type": "display_data"
    },
    {
     "data": {
      "text/plain": [
       "- : Jupyter_notebook.display_id = <abstr>\n"
      ]
     },
     "execution_count": 85,
     "metadata": {},
     "output_type": "execute_result"
    }
   ],
   "source": [
    "let ne_naredi_nic _tabela =\n",
    "  ()\n",
    "\n",
    "in\n",
    "\n",
    "(* dobimo samo prvotno permutacijo *)\n",
    "verjetnost_permutacij ne_naredi_nic [|\"A\"; \"B\"; \"C\"; \"D\"|] 10000"
   ]
  },
  {
   "cell_type": "code",
   "execution_count": 90,
   "metadata": {
    "vscode": {
     "languageId": "ocaml"
    }
   },
   "outputs": [
    {
     "data": {
      "text/html": [
       "<table><tr><th>dogodek</th><th>verjetnost</th><th style=\"width: 300px\"></th></tr><tr><td>ABC</td><td>18.750000%</td><td><div style=\"width: 18.750000%; height: 1em; background:black\"></div></td></tr><tr><td>ACB</td><td>17.260000%</td><td><div style=\"width: 17.260000%; height: 1em; background:black\"></div></td></tr><tr><td>BAC</td><td>16.880000%</td><td><div style=\"width: 16.880000%; height: 1em; background:black\"></div></td></tr><tr><td>BCA</td><td>15.310000%</td><td><div style=\"width: 15.310000%; height: 1em; background:black\"></div></td></tr><tr><td>CAB</td><td>14.520000%</td><td><div style=\"width: 14.520000%; height: 1em; background:black\"></div></td></tr><tr><td>CBA</td><td>17.280000%</td><td><div style=\"width: 17.280000%; height: 1em; background:black\"></div></td></tr></table>"
      ]
     },
     "metadata": {},
     "output_type": "display_data"
    },
    {
     "data": {
      "text/plain": [
       "- : Jupyter_notebook.display_id = <abstr>\n"
      ]
     },
     "execution_count": 90,
     "metadata": {},
     "output_type": "execute_result"
    }
   ],
   "source": [
    "let zamenjuj_pare tabela =\n",
    "  let n = Array.length tabela in\n",
    "  for k = 1 to n do\n",
    "    let i = nakljucno_celo 0 (n - 1)\n",
    "    and j = nakljucno_celo 0 (n - 1) in\n",
    "    zamenjaj tabela i j\n",
    "  done\n",
    "in\n",
    "\n",
    "(* dobimo samo prvotno permutacijo *)\n",
    "verjetnost_permutacij zamenjuj_pare [|\"A\"; \"B\"; \"C\"|] 10000"
   ]
  },
  {
   "cell_type": "markdown",
   "metadata": {},
   "source": [
    "### Fisher-Yatesov algoritem"
   ]
  },
  {
   "cell_type": "code",
   "execution_count": 74,
   "metadata": {
    "vscode": {
     "languageId": "ocaml"
    }
   },
   "outputs": [
    {
     "data": {
      "text/html": [
       "<table><tr><th>dogodek</th><th>verjetnost</th><th style=\"width: 300px\"></th></tr><tr><td>BCDA</td><td>16.820000%</td><td><div style=\"width: 16.820000%; height: 1em; background:black\"></div></td></tr><tr><td>BDAC</td><td>17.240000%</td><td><div style=\"width: 17.240000%; height: 1em; background:black\"></div></td></tr><tr><td>CADB</td><td>16.300000%</td><td><div style=\"width: 16.300000%; height: 1em; background:black\"></div></td></tr><tr><td>CDBA</td><td>16.200000%</td><td><div style=\"width: 16.200000%; height: 1em; background:black\"></div></td></tr><tr><td>DABC</td><td>16.540000%</td><td><div style=\"width: 16.540000%; height: 1em; background:black\"></div></td></tr><tr><td>DCAB</td><td>16.900000%</td><td><div style=\"width: 16.900000%; height: 1em; background:black\"></div></td></tr></table>"
      ]
     },
     "metadata": {},
     "output_type": "display_data"
    },
    {
     "data": {
      "text/plain": [
       "- : Jupyter_notebook.display_id = <abstr>\n"
      ]
     },
     "execution_count": 74,
     "metadata": {},
     "output_type": "execute_result"
    }
   ],
   "source": [
    "let brez_fiksnih_tock tabela =\n",
    "  let n = Array.length tabela in\n",
    "  for i = 0 to n - 2 do\n",
    "    (* i nikoli ne zamenjamo z i *)\n",
    "    let j = nakljucno_celo (i + 1) (n - 1) in\n",
    "    zamenjaj tabela i j\n",
    "  done\n",
    "\n",
    "in\n",
    "\n",
    "verjetnost_permutacij brez_fiksnih_tock [|\"A\"; \"B\"; \"C\"; \"D\"|] 10000"
   ]
  },
  {
   "cell_type": "code",
   "execution_count": 91,
   "metadata": {
    "vscode": {
     "languageId": "ocaml"
    }
   },
   "outputs": [
    {
     "data": {
      "text/html": [
       "<table><tr><th>dogodek</th><th>verjetnost</th><th style=\"width: 300px\"></th></tr><tr><td>ABCD</td><td>4.071000%</td><td><div style=\"width: 4.071000%; height: 1em; background:black\"></div></td></tr><tr><td>ABDC</td><td>4.204000%</td><td><div style=\"width: 4.204000%; height: 1em; background:black\"></div></td></tr><tr><td>ACBD</td><td>4.156000%</td><td><div style=\"width: 4.156000%; height: 1em; background:black\"></div></td></tr><tr><td>ACDB</td><td>4.239000%</td><td><div style=\"width: 4.239000%; height: 1em; background:black\"></div></td></tr><tr><td>ADBC</td><td>4.215000%</td><td><div style=\"width: 4.215000%; height: 1em; background:black\"></div></td></tr><tr><td>ADCB</td><td>4.226000%</td><td><div style=\"width: 4.226000%; height: 1em; background:black\"></div></td></tr><tr><td>BACD</td><td>4.131000%</td><td><div style=\"width: 4.131000%; height: 1em; background:black\"></div></td></tr><tr><td>BADC</td><td>4.201000%</td><td><div style=\"width: 4.201000%; height: 1em; background:black\"></div></td></tr><tr><td>BCAD</td><td>4.164000%</td><td><div style=\"width: 4.164000%; height: 1em; background:black\"></div></td></tr><tr><td>BCDA</td><td>4.206000%</td><td><div style=\"width: 4.206000%; height: 1em; background:black\"></div></td></tr><tr><td>BDAC</td><td>4.093000%</td><td><div style=\"width: 4.093000%; height: 1em; background:black\"></div></td></tr><tr><td>BDCA</td><td>4.167000%</td><td><div style=\"width: 4.167000%; height: 1em; background:black\"></div></td></tr><tr><td>CABD</td><td>4.155000%</td><td><div style=\"width: 4.155000%; height: 1em; background:black\"></div></td></tr><tr><td>CADB</td><td>4.183000%</td><td><div style=\"width: 4.183000%; height: 1em; background:black\"></div></td></tr><tr><td>CBAD</td><td>4.128000%</td><td><div style=\"width: 4.128000%; height: 1em; background:black\"></div></td></tr><tr><td>CBDA</td><td>4.237000%</td><td><div style=\"width: 4.237000%; height: 1em; background:black\"></div></td></tr><tr><td>CDAB</td><td>4.215000%</td><td><div style=\"width: 4.215000%; height: 1em; background:black\"></div></td></tr><tr><td>CDBA</td><td>4.217000%</td><td><div style=\"width: 4.217000%; height: 1em; background:black\"></div></td></tr><tr><td>DABC</td><td>4.099000%</td><td><div style=\"width: 4.099000%; height: 1em; background:black\"></div></td></tr><tr><td>DACB</td><td>3.977000%</td><td><div style=\"width: 3.977000%; height: 1em; background:black\"></div></td></tr><tr><td>DBAC</td><td>4.150000%</td><td><div style=\"width: 4.150000%; height: 1em; background:black\"></div></td></tr><tr><td>DBCA</td><td>4.186000%</td><td><div style=\"width: 4.186000%; height: 1em; background:black\"></div></td></tr><tr><td>DCAB</td><td>4.147000%</td><td><div style=\"width: 4.147000%; height: 1em; background:black\"></div></td></tr><tr><td>DCBA</td><td>4.233000%</td><td><div style=\"width: 4.233000%; height: 1em; background:black\"></div></td></tr></table>"
      ]
     },
     "metadata": {},
     "output_type": "display_data"
    },
    {
     "data": {
      "text/plain": [
       "- : Jupyter_notebook.display_id = <abstr>\n"
      ]
     },
     "execution_count": 91,
     "metadata": {},
     "output_type": "execute_result"
    }
   ],
   "source": [
    "let fisher_yates tabela =\n",
    "  let n = Array.length tabela in\n",
    "  for i = 0 to n - 2 do\n",
    "    let j = nakljucno_celo i (n - 1) in\n",
    "    zamenjaj tabela i j\n",
    "  done\n",
    "\n",
    "in\n",
    "\n",
    "verjetnost_permutacij fisher_yates [|\"A\"; \"B\"; \"C\"; \"D\"|] 100000"
   ]
  },
  {
   "cell_type": "code",
   "execution_count": 93,
   "metadata": {
    "vscode": {
     "languageId": "ocaml"
    }
   },
   "outputs": [
    {
     "data": {
      "text/html": [
       "<table><tr><th>dogodek</th><th>verjetnost</th><th style=\"width: 300px\"></th></tr><tr><td>ABCD</td><td>6.325000%</td><td><div style=\"width: 6.325000%; height: 1em; background:black\"></div></td></tr><tr><td>ABDC</td><td>3.168000%</td><td><div style=\"width: 3.168000%; height: 1em; background:black\"></div></td></tr><tr><td>ACBD</td><td>7.905000%</td><td><div style=\"width: 7.905000%; height: 1em; background:black\"></div></td></tr><tr><td>ACDB</td><td>3.187000%</td><td><div style=\"width: 3.187000%; height: 1em; background:black\"></div></td></tr><tr><td>ADBC</td><td>1.622000%</td><td><div style=\"width: 1.622000%; height: 1em; background:black\"></div></td></tr><tr><td>ADCB</td><td>3.069000%</td><td><div style=\"width: 3.069000%; height: 1em; background:black\"></div></td></tr><tr><td>BACD</td><td>7.771000%</td><td><div style=\"width: 7.771000%; height: 1em; background:black\"></div></td></tr><tr><td>BADC</td><td>3.014000%</td><td><div style=\"width: 3.014000%; height: 1em; background:black\"></div></td></tr><tr><td>BCAD</td><td>7.858000%</td><td><div style=\"width: 7.858000%; height: 1em; background:black\"></div></td></tr><tr><td>BCDA</td><td>7.726000%</td><td><div style=\"width: 7.726000%; height: 1em; background:black\"></div></td></tr><tr><td>BDAC</td><td>3.211000%</td><td><div style=\"width: 3.211000%; height: 1em; background:black\"></div></td></tr><tr><td>BDCA</td><td>3.142000%</td><td><div style=\"width: 3.142000%; height: 1em; background:black\"></div></td></tr><tr><td>CABD</td><td>6.273000%</td><td><div style=\"width: 6.273000%; height: 1em; background:black\"></div></td></tr><tr><td>CADB</td><td>4.658000%</td><td><div style=\"width: 4.658000%; height: 1em; background:black\"></div></td></tr><tr><td>CBAD</td><td>6.212000%</td><td><div style=\"width: 6.212000%; height: 1em; background:black\"></div></td></tr><tr><td>CBDA</td><td>3.008000%</td><td><div style=\"width: 3.008000%; height: 1em; background:black\"></div></td></tr><tr><td>CDAB</td><td>3.229000%</td><td><div style=\"width: 3.229000%; height: 1em; background:black\"></div></td></tr><tr><td>CDBA</td><td>4.561000%</td><td><div style=\"width: 4.561000%; height: 1em; background:black\"></div></td></tr><tr><td>DABC</td><td>1.527000%</td><td><div style=\"width: 1.527000%; height: 1em; background:black\"></div></td></tr><tr><td>DACB</td><td>1.620000%</td><td><div style=\"width: 1.620000%; height: 1em; background:black\"></div></td></tr><tr><td>DBAC</td><td>1.542000%</td><td><div style=\"width: 1.542000%; height: 1em; background:black\"></div></td></tr><tr><td>DBCA</td><td>3.107000%</td><td><div style=\"width: 3.107000%; height: 1em; background:black\"></div></td></tr><tr><td>DCAB</td><td>3.089000%</td><td><div style=\"width: 3.089000%; height: 1em; background:black\"></div></td></tr><tr><td>DCBA</td><td>3.176000%</td><td><div style=\"width: 3.176000%; height: 1em; background:black\"></div></td></tr></table>"
      ]
     },
     "metadata": {},
     "output_type": "display_data"
    },
    {
     "data": {
      "text/plain": [
       "- : Jupyter_notebook.display_id = <abstr>\n"
      ]
     },
     "execution_count": 93,
     "metadata": {},
     "output_type": "execute_result"
    }
   ],
   "source": [
    "let malo_pokvarjen_fisher_yates tabela =\n",
    "  let n = Array.length tabela in\n",
    "  for i = 0 to n - 2 do\n",
    "    (* izbiramo tudi med že izbranimi elementi *)\n",
    "    let j = nakljucno_celo 0 (n - 1) in\n",
    "    zamenjaj tabela i j\n",
    "  done\n",
    "\n",
    "in\n",
    "\n",
    "verjetnost_permutacij malo_pokvarjen_fisher_yates [|\"A\"; \"B\"; \"C\"; \"D\"|] 100000"
   ]
  },
  {
   "cell_type": "markdown",
   "metadata": {},
   "source": [
    "## Naivni algoritmi za urejanje"
   ]
  },
  {
   "cell_type": "markdown",
   "metadata": {},
   "source": [
    "## Urejanje z zlivanjem"
   ]
  },
  {
   "cell_type": "markdown",
   "metadata": {},
   "source": [
    "![](../../zapiski/slike/urejanje-z-zlivanjem.png)"
   ]
  },
  {
   "cell_type": "markdown",
   "metadata": {},
   "source": [
    "## Hitro urejanje"
   ]
  },
  {
   "cell_type": "markdown",
   "metadata": {},
   "source": [
    "![](../../zapiski/slike/hitro-urejanje.png)"
   ]
  }
 ],
 "metadata": {
  "kernelspec": {
   "display_name": "OCaml default",
   "language": "OCaml",
   "name": "ocaml-jupyter-default"
  },
  "language_info": {
   "codemirror_mode": "text/x-ocaml",
   "file_extension": ".ml",
   "mimetype": "text/x-ocaml",
   "name": "OCaml",
   "nbconverter_exporter": null,
   "pygments_lexer": "OCaml",
   "version": "4.14.1"
  }
 },
 "nbformat": 4,
 "nbformat_minor": 2
}
=======
{
 "cells": [
  {
   "cell_type": "markdown",
   "metadata": {},
   "source": [
    "# Računska zahtevnost"
   ]
  },
  {
   "cell_type": "markdown",
   "metadata": {},
   "source": [
    "## Tabele in tip [`array`](https://caml.inria.fr/pub/docs/manual-ocaml/libref/Array.html)"
   ]
  },
  {
   "cell_type": "code",
   "execution_count": 8,
   "metadata": {
    "vscode": {
     "languageId": "ocaml"
    }
   },
   "outputs": [
    {
     "data": {
      "text/plain": [
       "val t : int array = [|10; 20; 30; 40; 50|]\n"
      ]
     },
     "execution_count": 8,
     "metadata": {},
     "output_type": "execute_result"
    }
   ],
   "source": [
    "let t = [|10; 20; 30; 40; 50|]"
   ]
  },
  {
   "cell_type": "code",
   "execution_count": 9,
   "metadata": {
    "vscode": {
     "languageId": "ocaml"
    }
   },
   "outputs": [
    {
     "data": {
      "text/plain": [
       "- : unit = ()\n"
      ]
     },
     "execution_count": 9,
     "metadata": {},
     "output_type": "execute_result"
    }
   ],
   "source": [
    "t.(1) <- 42"
   ]
  },
  {
   "cell_type": "code",
   "execution_count": 10,
   "metadata": {
    "vscode": {
     "languageId": "ocaml"
    }
   },
   "outputs": [
    {
     "data": {
      "text/plain": [
       "- : int array = [|10; 42; 30; 40; 50|]\n"
      ]
     },
     "execution_count": 10,
     "metadata": {},
     "output_type": "execute_result"
    }
   ],
   "source": [
    "t"
   ]
  },
  {
   "cell_type": "code",
   "execution_count": null,
   "metadata": {
    "vscode": {
     "languageId": "ocaml"
    }
   },
   "outputs": [],
   "source": [
    "Array.make_matrix 2 2 0"
   ]
  },
  {
   "cell_type": "code",
   "execution_count": null,
   "metadata": {
    "vscode": {
     "languageId": "ocaml"
    }
   },
   "outputs": [],
   "source": [
    "Array.map succ [|10; 20; 30|]"
   ]
  },
  {
   "cell_type": "code",
   "execution_count": 11,
   "metadata": {
    "vscode": {
     "languageId": "ocaml"
    }
   },
   "outputs": [
    {
     "data": {
      "text/plain": [
       "val t : int array = [|1; 2; 3; 4|]\n"
      ]
     },
     "execution_count": 11,
     "metadata": {},
     "output_type": "execute_result"
    },
    {
     "data": {
      "text/plain": [
       "val t' : int array = [|1; 2; 3; 4|]\n"
      ]
     },
     "execution_count": 11,
     "metadata": {},
     "output_type": "execute_result"
    }
   ],
   "source": [
    "let t = [|1; 2; 3; 4|]\n",
    "let t' = t"
   ]
  },
  {
   "cell_type": "code",
   "execution_count": 12,
   "metadata": {
    "vscode": {
     "languageId": "ocaml"
    }
   },
   "outputs": [
    {
     "data": {
      "text/plain": [
       "- : unit = ()\n"
      ]
     },
     "execution_count": 12,
     "metadata": {},
     "output_type": "execute_result"
    }
   ],
   "source": [
    "t'.(2) <- 30"
   ]
  },
  {
   "cell_type": "code",
   "execution_count": 14,
   "metadata": {
    "vscode": {
     "languageId": "ocaml"
    }
   },
   "outputs": [
    {
     "data": {
      "text/plain": [
       "- : int array = [|1; 2; 30; 4|]\n"
      ]
     },
     "execution_count": 14,
     "metadata": {},
     "output_type": "execute_result"
    }
   ],
   "source": [
    "t"
   ]
  },
  {
   "cell_type": "markdown",
   "metadata": {},
   "source": [
    "## Notacija $O$"
   ]
  },
  {
   "cell_type": "markdown",
   "metadata": {
    "vscode": {
     "languageId": "ocaml"
    }
   },
   "source": [
    "$$f \\in O(n \\mapsto n^2)$$"
   ]
  },
  {
   "cell_type": "markdown",
   "metadata": {},
   "source": [
    "$$f(n) = O(n^2)$$"
   ]
  },
  {
   "cell_type": "markdown",
   "metadata": {},
   "source": [
    "### $$f \\in O({\\color{blue} g}) \\iff {\\color{red} \\exists x_0}. {\\color{purple} \\exists M}. \\forall x > {\\color{red} x_0}. |f(x)| \\le {\\color{purple} M} |{\\color{blue} g}(x)|$$"
   ]
  },
  {
   "cell_type": "markdown",
   "metadata": {
    "vscode": {
     "languageId": "ocaml"
    }
   },
   "source": [
    "![graf](../zapiski/slike/O-graf.png)"
   ]
  },
  {
   "cell_type": "markdown",
   "metadata": {},
   "source": [
    "$$f \\in O(g) \\implies \\alpha \\cdot f \\in O(g)$$\n",
    "$$f_1 \\in O(g_1), f_2 \\in O(g_2) \\implies f_1 + f_2 \\in O(|g_1| + |g_2|)$$\n",
    "$$f_1 \\in O(g_1), f_2 \\in O(g_2) \\implies f_1 \\cdot f_2 \\in O(g_1 \\cdot g_2)$$"
   ]
  },
  {
   "cell_type": "markdown",
   "metadata": {},
   "source": [
    "## Predstavitev podatkov v pomnilniku"
   ]
  },
  {
   "cell_type": "markdown",
   "metadata": {},
   "source": [
    "### Verižni seznami v OCamlu"
   ]
  },
  {
   "cell_type": "markdown",
   "metadata": {
    "vscode": {
     "languageId": "ocaml"
    }
   },
   "source": [
    "![seznam v OCamlu](../zapiski/slike/seznam-ocaml.png)"
   ]
  },
  {
   "cell_type": "markdown",
   "metadata": {},
   "source": [
    "```ocaml\n",
    "let s = [6; 2; 4]\n",
    "```\n",
    "\n",
    "![](../../zapiski/slike/seznam-ocaml.png)\n",
    "\n",
    "```ocaml\n",
    "s : 19         0   0   0   0   0   0\n",
    "               0   0   0   0   0   0\n",
    "               0   0   1   2  22   0\n",
    "               1   6  15   1   4  30\n",
    "               0   0   0   0   0   0\n",
    "```"
   ]
  },
  {
   "cell_type": "markdown",
   "metadata": {},
   "source": [
    "### Tabele v OCamlu"
   ]
  },
  {
   "cell_type": "markdown",
   "metadata": {},
   "source": [
    "![seznam v OCamlu](../zapiski/slike/tabela-ocaml.png)"
   ]
  },
  {
   "cell_type": "markdown",
   "metadata": {},
   "source": [
    "\n",
    "```ocaml\n",
    "let s = [|6; 2; 4|]\n",
    "```\n",
    "\n",
    "![](../../zapiski/slike/tabela-ocaml.png)\n",
    "\n",
    "```ocaml\n",
    "s : 19         0   0   0   0   0   0\n",
    "               0   0   0   0   0   0\n",
    "               0   0   0   0   0   0\n",
    "               3   6   2   4   0   0\n",
    "               0   0   0   0   0   0\n",
    "```"
   ]
  },
  {
   "cell_type": "code",
   "execution_count": 1,
   "metadata": {
    "vscode": {
     "languageId": "ocaml"
    }
   },
   "outputs": [
    {
     "data": {
      "text/plain": [
       "val t : int array = [|1; 2; 3|]\n"
      ]
     },
     "execution_count": 1,
     "metadata": {},
     "output_type": "execute_result"
    }
   ],
   "source": [
    "let t = [|1; 2; 3|]"
   ]
  },
  {
   "cell_type": "code",
   "execution_count": 3,
   "metadata": {
    "vscode": {
     "languageId": "ocaml"
    }
   },
   "outputs": [
    {
     "ename": "error",
     "evalue": "compile_error",
     "output_type": "error",
     "traceback": [
      "File \"[3]\", line 1, characters 9-13:\n1 | t.(1) <- true;;\n             ^^^^\nError: This expression has type bool but an expression was expected of type\n         int\n"
     ]
    }
   ],
   "source": [
    "t.(1) <- true;;"
   ]
  },
  {
   "cell_type": "markdown",
   "metadata": {},
   "source": [
    "### Tabele v Pythonu"
   ]
  },
  {
   "cell_type": "markdown",
   "metadata": {},
   "source": [
    "![seznam v OCamlu](../zapiski/slike/tabela-python.png)"
   ]
  },
  {
   "cell_type": "markdown",
   "metadata": {},
   "source": [
    "\n",
    "```python\n",
    "s = [6, 2, 4]\n",
    "```\n",
    "\n",
    "![](../../zapiski/slike/tabela-python.png)\n",
    "\n",
    "```python\n",
    "s : 19         0   0 123   6   0   0\n",
    "               0   0   0   0 123   4\n",
    "               0   0   0   0   0   0\n",
    "             246   3   6   3  11  29\n",
    "               0   0   0   0 123   2\n",
    "```\n",
    "\n",
    "Na mestih `123` in `246` je shranjena še definicija\n",
    "razredov `int` in `list`.\n"
   ]
  },
  {
   "cell_type": "markdown",
   "metadata": {},
   "source": [
    "### Časovna zahtevnost osnovnih operacij"
   ]
  },
  {
   "cell_type": "markdown",
   "metadata": {},
   "source": [
    "|                                 | OCaml `array`  | Python `list`  | OCaml `list`\n",
    "| ------------------------------: |:-------------: | :------------: | :--------------:\n",
    "| indeksiranje                    | <summary><details>O(1)</details></summary> | <summary><details>O(1)</details></summary> | <summary><details>O(n)</details></summary>\n",
    "| dodaj na začetek                | <summary><details>O(n)</details></summary> | <summary><details>O(n)</details></summary> | <summary><details>O(1)</details></summary>\n",
    "| dodaj na konec                  | <summary><details>O(n)</details></summary> | <summary><details>O(1)</details></summary> | <summary><details>O(n)</details></summary>\n",
    "| dolžina                         | <summary><details>O(1)</details></summary> | <summary><details>O(1)</details></summary> | <summary><details>O(n)</details></summary>\n",
    "| izračun repa                    | <summary><details>O(n)</details></summary> | <summary><details>O(n)</details></summary> | <summary><details>O(1)</details></summary>\n"
   ]
  },
  {
   "cell_type": "markdown",
   "metadata": {},
   "source": [
    "## Reference"
   ]
  },
  {
   "cell_type": "code",
   "execution_count": null,
   "metadata": {
    "vscode": {
     "languageId": "ocaml"
    }
   },
   "outputs": [],
   "source": [
    "let r = ref 10"
   ]
  },
  {
   "cell_type": "code",
   "execution_count": null,
   "metadata": {
    "vscode": {
     "languageId": "ocaml"
    }
   },
   "outputs": [],
   "source": [
    "2 * !r"
   ]
  },
  {
   "cell_type": "code",
   "execution_count": null,
   "metadata": {
    "vscode": {
     "languageId": "ocaml"
    }
   },
   "outputs": [],
   "source": [
    "r := 15"
   ]
  },
  {
   "cell_type": "code",
   "execution_count": null,
   "metadata": {
    "vscode": {
     "languageId": "ocaml"
    }
   },
   "outputs": [],
   "source": [
    "let r' = r"
   ]
  },
  {
   "cell_type": "code",
   "execution_count": null,
   "metadata": {
    "vscode": {
     "languageId": "ocaml"
    }
   },
   "outputs": [],
   "source": [
    "r' := 20"
   ]
  },
  {
   "cell_type": "code",
   "execution_count": null,
   "metadata": {
    "vscode": {
     "languageId": "ocaml"
    }
   },
   "outputs": [],
   "source": [
    "r"
   ]
  },
  {
   "cell_type": "code",
   "execution_count": null,
   "metadata": {
    "vscode": {
     "languageId": "ocaml"
    }
   },
   "outputs": [],
   "source": [
    "(:=)"
   ]
  },
  {
   "cell_type": "code",
   "execution_count": null,
   "metadata": {
    "vscode": {
     "languageId": "ocaml"
    }
   },
   "outputs": [],
   "source": [
    "let r = ref 10"
   ]
  },
  {
   "cell_type": "code",
   "execution_count": null,
   "metadata": {
    "vscode": {
     "languageId": "ocaml"
    }
   },
   "outputs": [],
   "source": [
    "let r' = ref 10"
   ]
  },
  {
   "cell_type": "markdown",
   "metadata": {},
   "source": [
    "## Zanki `for` in `while`"
   ]
  },
  {
   "cell_type": "code",
   "execution_count": 5,
   "metadata": {
    "vscode": {
     "languageId": "ocaml"
    }
   },
   "outputs": [
    {
     "name": "stdout",
     "output_type": "stream",
     "text": [
      "1\n",
      "2\n",
      "fizz\n",
      "4\n",
      "buzz\n",
      "fizz\n",
      "7\n",
      "8\n",
      "fizz\n",
      "buzz\n",
      "11\n",
      "fizz\n",
      "13\n",
      "14\n",
      "fizz buzz\n",
      "16\n",
      "17\n",
      "fizz\n",
      "19\n",
      "buzz\n",
      "fizz\n",
      "22\n",
      "23\n",
      "fizz\n",
      "buzz\n",
      "26\n",
      "fizz\n",
      "28\n",
      "29\n",
      "fizz buzz\n",
      "31\n",
      "32\n",
      "fizz\n",
      "34\n",
      "buzz\n",
      "fizz\n",
      "37\n",
      "38\n",
      "fizz\n",
      "buzz\n",
      "41\n",
      "fizz\n",
      "43\n",
      "44\n",
      "fizz buzz\n",
      "46\n",
      "47\n",
      "fizz\n",
      "49\n",
      "buzz\n",
      "fizz\n",
      "52\n",
      "53\n",
      "fizz\n",
      "buzz\n",
      "56\n",
      "fizz\n",
      "58\n",
      "59\n",
      "fizz buzz\n",
      "61\n",
      "62\n",
      "fizz\n",
      "64\n",
      "buzz\n",
      "fizz\n",
      "67\n",
      "68\n",
      "fizz\n",
      "buzz\n",
      "71\n",
      "fizz\n",
      "73\n",
      "74\n",
      "fizz buzz\n",
      "76\n",
      "77\n",
      "fizz\n",
      "79\n",
      "buzz\n",
      "fizz\n",
      "82\n",
      "83\n",
      "fizz\n",
      "buzz\n",
      "86\n",
      "fizz\n",
      "88\n",
      "89\n",
      "fizz buzz\n",
      "91\n",
      "92\n",
      "fizz\n",
      "94\n",
      "buzz\n",
      "fizz\n",
      "97\n",
      "98\n",
      "fizz\n",
      "buzz\n"
     ]
    },
    {
     "data": {
      "text/plain": [
       "- : unit = ()\n"
      ]
     },
     "execution_count": 5,
     "metadata": {},
     "output_type": "execute_result"
    }
   ],
   "source": [
    "let fizz_buzz n =\n",
    "  match n mod 3, n mod 5 with\n",
    "  | 0, 0 -> \"fizz buzz\"\n",
    "  | 0, _ -> \"fizz\"\n",
    "  | _, 0 -> \"buzz\"\n",
    "  | _ -> string_of_int n\n",
    "in\n",
    "for i = 1 to 100 do\n",
    "  print_endline (fizz_buzz i)\n",
    "done"
   ]
  },
  {
   "cell_type": "code",
   "execution_count": 1,
   "metadata": {
    "vscode": {
     "languageId": "ocaml"
    }
   },
   "outputs": [
    {
     "name": "stdout",
     "output_type": "stream",
     "text": [
      "1\n",
      "2\n",
      "fizz\n",
      "4\n",
      "buzz\n",
      "fizz\n",
      "7\n",
      "8\n",
      "fizz\n",
      "buzz\n",
      "11\n",
      "fizz\n",
      "13\n",
      "14\n",
      "fizz buzz\n",
      "16\n",
      "17\n",
      "fizz\n",
      "19\n",
      "buzz\n",
      "fizz\n",
      "22\n",
      "23\n",
      "fizz\n",
      "buzz\n",
      "26\n",
      "fizz\n",
      "28\n",
      "29\n",
      "fizz buzz\n",
      "31\n",
      "32\n",
      "fizz\n",
      "34\n",
      "buzz\n",
      "fizz\n",
      "37\n",
      "38\n",
      "fizz\n",
      "buzz\n",
      "41\n",
      "fizz\n",
      "43\n",
      "44\n",
      "fizz buzz\n",
      "46\n",
      "47\n",
      "fizz\n",
      "49\n",
      "buzz\n",
      "fizz\n",
      "52\n",
      "53\n",
      "fizz\n",
      "buzz\n",
      "56\n",
      "fizz\n",
      "58\n",
      "59\n",
      "fizz buzz\n",
      "61\n",
      "62\n",
      "fizz\n",
      "64\n",
      "buzz\n",
      "fizz\n",
      "67\n",
      "68\n",
      "fizz\n",
      "buzz\n",
      "71\n",
      "fizz\n",
      "73\n",
      "74\n",
      "fizz buzz\n",
      "76\n",
      "77\n",
      "fizz\n",
      "79\n",
      "buzz\n",
      "fizz\n",
      "82\n",
      "83\n",
      "fizz\n",
      "buzz\n",
      "86\n",
      "fizz\n",
      "88\n",
      "89\n",
      "fizz buzz\n",
      "91\n",
      "92\n",
      "fizz\n",
      "94\n",
      "buzz\n",
      "fizz\n",
      "97\n",
      "98\n",
      "fizz\n",
      "buzz\n"
     ]
    },
    {
     "data": {
      "text/plain": [
       "- : unit = ()\n"
      ]
     },
     "execution_count": 1,
     "metadata": {},
     "output_type": "execute_result"
    }
   ],
   "source": [
    "let fizz_buzz n =\n",
    "  match n mod 3, n mod 5 with\n",
    "  | 0, 0 -> \"fizz buzz\"\n",
    "  | 0, _ -> \"fizz\"\n",
    "  | _, 0 -> \"buzz\"\n",
    "  | _ -> string_of_int n\n",
    "in\n",
    "let t = [| 1 |] in\n",
    "while t.(0) <= 100 do\n",
    "  print_endline (fizz_buzz t.(0));\n",
    "  t.(0) <- t.(0) + 1\n",
    "done"
   ]
  },
  {
   "cell_type": "code",
   "execution_count": 2,
   "metadata": {
    "vscode": {
     "languageId": "ocaml"
    }
   },
   "outputs": [
    {
     "name": "stdout",
     "output_type": "stream",
     "text": [
      "1\n",
      "2\n",
      "fizz\n",
      "4\n",
      "buzz\n",
      "fizz\n",
      "7\n",
      "8\n",
      "fizz\n",
      "buzz\n",
      "11\n",
      "fizz\n",
      "13\n",
      "14\n",
      "fizz buzz\n",
      "16\n",
      "17\n",
      "fizz\n",
      "19\n",
      "buzz\n",
      "fizz\n",
      "22\n",
      "23\n",
      "fizz\n",
      "buzz\n",
      "26\n",
      "fizz\n",
      "28\n",
      "29\n",
      "fizz buzz\n",
      "31\n",
      "32\n",
      "fizz\n",
      "34\n",
      "buzz\n",
      "fizz\n",
      "37\n",
      "38\n",
      "fizz\n",
      "buzz\n",
      "41\n",
      "fizz\n",
      "43\n",
      "44\n",
      "fizz buzz\n",
      "46\n",
      "47\n",
      "fizz\n",
      "49\n",
      "buzz\n",
      "fizz\n",
      "52\n",
      "53\n",
      "fizz\n",
      "buzz\n",
      "56\n",
      "fizz\n",
      "58\n",
      "59\n",
      "fizz buzz\n",
      "61\n",
      "62\n",
      "fizz\n",
      "64\n",
      "buzz\n",
      "fizz\n",
      "67\n",
      "68\n",
      "fizz\n",
      "buzz\n",
      "71\n",
      "fizz\n",
      "73\n",
      "74\n",
      "fizz buzz\n",
      "76\n",
      "77\n",
      "fizz\n",
      "79\n",
      "buzz\n",
      "fizz\n",
      "82\n",
      "83\n",
      "fizz\n",
      "buzz\n",
      "86\n",
      "fizz\n",
      "88\n",
      "89\n",
      "fizz buzz\n",
      "91\n",
      "92\n",
      "fizz\n",
      "94\n",
      "buzz\n",
      "fizz\n",
      "97\n",
      "98\n",
      "fizz\n",
      "buzz\n"
     ]
    },
    {
     "data": {
      "text/plain": [
       "- : unit = ()\n"
      ]
     },
     "execution_count": 2,
     "metadata": {},
     "output_type": "execute_result"
    }
   ],
   "source": [
    "let fizz_buzz n =\n",
    "  match n mod 3, n mod 5 with\n",
    "  | 0, 0 -> \"fizz buzz\"\n",
    "  | 0, _ -> \"fizz\"\n",
    "  | _, 0 -> \"buzz\"\n",
    "  | _ -> string_of_int n\n",
    "in\n",
    "let r = ref 1 in\n",
    "while !r <= 100 do\n",
    "  print_endline (fizz_buzz !r);\n",
    "  r := !r + 1\n",
    "done"
   ]
  },
  {
   "cell_type": "markdown",
   "metadata": {},
   "source": [
    "## Spreminjanje tabel na mestu"
   ]
  },
  {
   "cell_type": "code",
   "execution_count": 3,
   "metadata": {
    "vscode": {
     "languageId": "ocaml"
    }
   },
   "outputs": [
    {
     "data": {
      "text/plain": [
       "val t : int array = [|10; 20; 30; 40; 50|]\n"
      ]
     },
     "execution_count": 3,
     "metadata": {},
     "output_type": "execute_result"
    }
   ],
   "source": [
    "let t = [| 10; 20; 30; 40; 50 |]"
   ]
  },
  {
   "cell_type": "code",
   "execution_count": 4,
   "metadata": {
    "vscode": {
     "languageId": "ocaml"
    }
   },
   "outputs": [
    {
     "data": {
      "text/plain": [
       "val naredi_obrnjeno : 'a array -> 'a array = <fun>\n"
      ]
     },
     "execution_count": 4,
     "metadata": {},
     "output_type": "execute_result"
    }
   ],
   "source": [
    "let naredi_obrnjeno tabela =\n",
    "  let n = Array.length tabela in\n",
    "  Array.init n (fun i -> tabela.(n - 1 - i))"
   ]
  },
  {
   "cell_type": "code",
   "execution_count": 5,
   "metadata": {
    "vscode": {
     "languageId": "ocaml"
    }
   },
   "outputs": [
    {
     "data": {
      "text/plain": [
       "val zamenjaj : 'a array -> int -> int -> unit = <fun>\n"
      ]
     },
     "execution_count": 5,
     "metadata": {},
     "output_type": "execute_result"
    }
   ],
   "source": [
    "let zamenjaj tabela i j =\n",
    "  let x = tabela.(i) in\n",
    "  tabela.(i) <- tabela.(j);\n",
    "  tabela.(j) <- x"
   ]
  },
  {
   "cell_type": "code",
   "execution_count": 6,
   "metadata": {
    "vscode": {
     "languageId": "ocaml"
    }
   },
   "outputs": [
    {
     "data": {
      "text/plain": [
       "val obrni_na_mestu : 'a array -> unit = <fun>\n"
      ]
     },
     "execution_count": 6,
     "metadata": {},
     "output_type": "execute_result"
    }
   ],
   "source": [
    "let obrni_na_mestu tabela =\n",
    "  let n = Array.length tabela in\n",
    "  for i = 0 to n / 2 do\n",
    "    zamenjaj tabela i (n - 1 - i)\n",
    "  done"
   ]
  },
  {
   "cell_type": "markdown",
   "metadata": {},
   "source": [
    "## Mešanje"
   ]
  },
  {
   "cell_type": "code",
   "execution_count": null,
   "metadata": {
    "vscode": {
     "languageId": "ocaml"
    }
   },
   "outputs": [],
   "source": [
    "let nakljucno_celo a b =\n",
    "  a + Random.int (b + 1 - a)"
   ]
  },
  {
   "cell_type": "code",
   "execution_count": null,
   "metadata": {
    "vscode": {
     "languageId": "ocaml"
    }
   },
   "outputs": [],
   "source": [
    "let premesaj tabela =\n",
    "  let n = Array.length tabela in\n",
    "  for i = 0 to n - 2 do\n",
    "    let j = nakljucno_celo (i + 1) (n - 1) in\n",
    "    zamenjaj tabela i j\n",
    "  done"
   ]
  },
  {
   "cell_type": "code",
   "execution_count": null,
   "metadata": {
    "vscode": {
     "languageId": "ocaml"
    }
   },
   "outputs": [],
   "source": [
    "let tabela = Array.init 10 (fun i -> i) in\n",
    "premesaj tabela;\n",
    "tabela"
   ]
  },
  {
   "cell_type": "markdown",
   "metadata": {},
   "source": [
    "### Porazdelitev verjetnosti dogodkov"
   ]
  },
  {
   "cell_type": "code",
   "execution_count": null,
   "metadata": {
    "vscode": {
     "languageId": "ocaml"
    }
   },
   "outputs": [],
   "source": [
    "#use \"topfind\";;\n",
    "#require \"jupyter.notebook\""
   ]
  },
  {
   "cell_type": "code",
   "execution_count": null,
   "metadata": {
    "vscode": {
     "languageId": "ocaml"
    }
   },
   "outputs": [],
   "source": [
    "let prikazi_verjetnosti verjetnosti =\n",
    "  Jupyter_notebook.printf \"<table><tr><th>dogodek</th><th>verjetnost</th><th style=\\\"width: 300px\\\"></th></tr>\";\n",
    "  verjetnosti\n",
    "  |> List.iter (fun (x, p) ->\n",
    "    let percent = (100. *. p) in\n",
    "    Jupyter_notebook.printf \"<tr><td>%s</td><td>%f%%</td><td><div style=\\\"width: %f%%; height: 1em; background:black\\\"></div></td></tr>\" x percent percent) ;\n",
    "  Jupyter_notebook.printf \"</table>\" ;\n",
    "  Jupyter_notebook.display_formatter \"text/html\""
   ]
  },
  {
   "cell_type": "code",
   "execution_count": null,
   "metadata": {
    "vscode": {
     "languageId": "ocaml"
    }
   },
   "outputs": [],
   "source": [
    "prikazi_verjetnosti [(\"sonce\", 0.5); (\"dež\", 0.1); (\"oblačno\", 0.2); (\"sneg\", 0.1)]"
   ]
  },
  {
   "cell_type": "code",
   "execution_count": null,
   "metadata": {
    "vscode": {
     "languageId": "ocaml"
    }
   },
   "outputs": [],
   "source": [
    "let verjetnost_rezultatov stevilo_poskusov poskus =\n",
    "  let ponovitve = Hashtbl.create 256 in\n",
    "  for _ = 1 to stevilo_poskusov do\n",
    "    let rezultat = poskus () in\n",
    "    if Hashtbl.mem ponovitve rezultat then\n",
    "      Hashtbl.replace ponovitve rezultat (Hashtbl.find ponovitve rezultat + 1)\n",
    "    else Hashtbl.add ponovitve rezultat 1\n",
    "  done;\n",
    "  let verjetnosti =\n",
    "    Hashtbl.fold\n",
    "      (fun rezultat stevilo seznam ->\n",
    "        (rezultat, float_of_int stevilo /. float_of_int stevilo_poskusov)\n",
    "        :: seznam)\n",
    "      ponovitve []\n",
    "  in\n",
    "  verjetnosti\n",
    "  |> List.sort (fun (x1, p1) (x2, p2) -> compare x1 x2)\n",
    "  |> prikazi_verjetnosti"
   ]
  },
  {
   "cell_type": "code",
   "execution_count": null,
   "metadata": {
    "vscode": {
     "languageId": "ocaml"
    }
   },
   "outputs": [],
   "source": [
    "verjetnost_rezultatov 100000 (fun () -> string_of_int (nakljucno_celo 1 6))"
   ]
  },
  {
   "cell_type": "markdown",
   "metadata": {},
   "source": [
    "### Pravičnost mešanja"
   ]
  },
  {
   "cell_type": "code",
   "execution_count": null,
   "metadata": {
    "vscode": {
     "languageId": "ocaml"
    }
   },
   "outputs": [],
   "source": [
    "let verjetnost_permutacij stevilo_poskusov velikost_tabele premesaj =\n",
    "  let poskus () =\n",
    "    let kopija = Array.init velikost_tabele (fun n -> n |> succ |> string_of_int) in\n",
    "    let () = premesaj kopija in\n",
    "    kopija\n",
    "    |> Array.to_list\n",
    "    |> String.concat \"\"\n",
    "  in\n",
    "  verjetnost_rezultatov stevilo_poskusov poskus"
   ]
  },
  {
   "cell_type": "code",
   "execution_count": null,
   "metadata": {
    "vscode": {
     "languageId": "ocaml"
    }
   },
   "outputs": [],
   "source": [
    "let ne_naredi_nic _tabela =\n",
    "  ()\n",
    "\n",
    "in\n",
    "\n",
    "(* dobimo samo prvotno permutacijo *)\n",
    "verjetnost_permutacij 10000 5 ne_naredi_nic"
   ]
  }
 ],
 "metadata": {
  "kernelspec": {
   "display_name": "OCaml 4.14",
   "language": "OCaml",
   "name": "ocaml-jupyter"
  },
  "language_info": {
   "codemirror_mode": "text/x-ocaml",
   "file_extension": ".ml",
   "mimetype": "text/x-ocaml",
   "name": "OCaml",
   "nbconverter_exporter": null,
   "pygments_lexer": "OCaml",
   "version": "4.14.2"
  }
 },
 "nbformat": 4,
 "nbformat_minor": 2
}
>>>>>>> c914e27fb585a66bde37488fb77b29fbced94c4c:10-racunska-zahtevnost/primeri.ipynb
